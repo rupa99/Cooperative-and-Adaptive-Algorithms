{
 "cells": [
  {
   "cell_type": "code",
   "execution_count": 45,
   "metadata": {},
   "outputs": [],
   "source": [
    "import numpy as np\n",
    "import random\n",
    "\n",
    "\n",
    "import numpy as np\n",
    "import random\n",
    "\n",
    "num_iter = 200\n",
    "lst_len = 17\n",
    "# lst_len = random.randint(7, 20) # dynamic list size\n",
    "sol_len = 20\n",
    "N = 190\n",
    "\n",
    "flow=   [[0, 0, 5,0, 5,2,10,3,1, 5, 5, 5, 0, 0, 5, 4, 4, 0, 0, 1 ],\n",
    "        [0, 0, 3,10,5,1, 5,1,2, 4, 2, 5, 0,10,10, 3, 0, 5,10, 5 ],\n",
    "        [5, 3, 0,2, 0,5, 2,4,4, 5, 0, 0, 0, 5, 1, 0, 0, 5, 0, 0 ],\n",
    "        [0,10, 2,0, 1,0, 5,2,1, 0,10, 2, 2, 0, 2, 1, 5, 2, 5, 5 ],\n",
    "        [5, 5, 0,1, 0,5, 6,5,2, 5, 2, 0, 5, 1, 1, 1, 5, 2, 5, 1 ],\n",
    "        [2, 1, 5,0, 5,0, 5,2,1, 6, 0, 0,10, 0, 2, 0, 1, 0, 1, 5 ],\n",
    "        [10,5, 2,5, 6,5, 0,0,0, 0, 5,10, 2, 2, 5, 1, 2, 1, 0,10 ],\n",
    "        [3, 1, 4,2, 5,2, 0,0,1, 1,10,10, 2, 0,10, 2, 5, 2, 2,10 ],\n",
    "        [1, 2, 4,1, 2,1, 0,1,0, 2, 0, 3, 5, 5, 0, 5, 0, 0, 0, 2 ],\n",
    "        [5,4, 5,0, 5,6, 0,1,2, 0, 5, 5, 0, 5, 1, 0, 0, 5, 5, 2 ],\n",
    "        [5,2, 0,10,2,0, 5,10,0,5, 0, 5, 2, 5, 1,10, 0, 2, 2, 5 ],\n",
    "        [5,5, 0,2, 0,0,10,10,3,5, 5, 0, 2,10, 5, 0, 1, 1, 2, 5 ],\n",
    "        [0,0, 0,2, 5,10,2,2, 5,0, 2, 2, 0, 2, 2, 1, 0, 0, 0, 5 ],\n",
    "        [0,10,5,0, 1,0, 2,0, 5,5, 5,10, 2, 0, 5, 5, 1, 5, 5, 0 ],\n",
    "        [5,10,1,2, 1,2, 5,10,0,1, 1, 5, 2, 5, 0, 3, 0, 5,10,10 ],\n",
    "        [4, 3,0,1, 1,0, 1,2, 5,0,10, 0, 1, 5, 3, 0, 0, 0, 2, 0 ],\n",
    "        [4, 0,0,5, 5,1, 2,5, 0,0, 0, 1, 0, 1, 0, 0, 0, 5, 2, 0 ],\n",
    "        [0, 5,5,2, 2,0, 1,2, 0,5, 2, 1, 0, 5, 5, 0, 5, 0, 1, 1 ],\n",
    "        [0,10,0,5, 5,1, 0,2, 0,5, 2, 2, 0, 5,10, 2, 2, 1, 0, 6 ],\n",
    "        [1, 5,0,5, 1,5,10,10,2,2, 5, 5, 5, 0,10, 0, 0, 1, 6, 0 ]]\n",
    "\n",
    "Distnce=[[0,1,2,3,4,1,2,3,4, 5, 2, 3, 4, 5, 6, 3, 4, 5, 6, 7 ],\n",
    "        [1,0,1,2,3,2,1,2,3, 4, 3, 2, 3, 4, 5, 4, 3, 4, 5, 6 ],\n",
    "        [2,1,0,1,2,3,2,1,2, 3, 4, 3, 2, 3, 4, 5, 4, 3, 4, 5 ],\n",
    "        [3,2,1,0,1,4,3,2,1, 2, 5, 4, 3, 2, 3, 6, 5, 4, 3, 4 ],\n",
    "        [4,3,2,1,0,5,4,3,2, 1, 6, 5, 4, 3, 2, 7, 6, 5, 4, 3 ],\n",
    "        [1,2,3,4,5,0,1,2,3, 4, 1, 2, 3, 4, 5, 2, 3, 4, 5, 6 ],\n",
    "        [2,1,2,3,4,1,0,1,2, 3, 2, 1, 2, 3, 4, 3, 2, 3, 4, 5 ],\n",
    "        [3,2,1,2,3,2,1,0,1, 2, 3, 2, 1, 2, 3, 4, 3, 2, 3, 4 ],\n",
    "        [4,3,2,1,2,3,2,1,0, 1, 4, 3, 2, 1, 2, 5, 4, 3, 2, 3 ],\n",
    "        [5,4,3,2,1,4,3,2,1,0, 5, 4, 3, 2, 1, 6, 5, 4, 3, 2 ],\n",
    "        [2,3,4,5,6,1,2,3,4,5, 0, 1, 2, 3, 4, 1, 2, 3, 4, 5 ],\n",
    "        [3,2,3,4,5,2,1,2,3,4, 1, 0, 1, 2, 3, 2, 1, 2, 3, 4 ],\n",
    "        [4,3,2,3,4,3,2,1,2,3, 2, 1, 0, 1, 2, 3, 2, 1, 2, 3 ],\n",
    "        [5,4,3,2,3,4,3,2,1,2, 3, 2, 1, 0, 1, 4, 3, 2, 1, 2 ],\n",
    "        [6,5,4,3,2,5,4,3,2,1, 4, 3, 2, 1, 0, 5, 4, 3, 2, 1 ],\n",
    "        [3,4,5,6,7,2,3,4,5,6, 1, 2, 3, 4, 5, 0, 1, 2, 3, 4 ],\n",
    "        [4,3,4,5,6,3,2,3,4,5, 2, 1, 2, 3, 4, 1, 0, 1, 2, 3 ],\n",
    "        [5,4,3,4,5,4,3,2,3,4, 3, 2, 1, 2, 3, 2, 1, 0, 1, 2 ],\n",
    "        [6,5,4,3,4,5,4,3,2,3, 4, 3, 2, 1, 2, 3, 2, 1, 0, 1 ],\n",
    "        [7,6,5,4,3,6,5,4,3,2, 5, 4, 3, 2, 1, 4, 3, 2, 1, 0 ]]\n",
    "\n"
   ]
  },
  {
   "cell_type": "code",
   "execution_count": 46,
   "metadata": {},
   "outputs": [
    {
     "name": "stdout",
     "output_type": "stream",
     "text": [
      "[[0 0 0 ... 0 0 0]\n",
      " [0 0 0 ... 0 0 0]\n",
      " [0 0 0 ... 0 0 0]\n",
      " ...\n",
      " [0 0 0 ... 0 0 0]\n",
      " [0 0 0 ... 0 0 0]\n",
      " [0 0 0 ... 0 0 0]]\n"
     ]
    }
   ],
   "source": [
    "neighbors = np.zeros((N, sol_len +2), dtype=int)\n",
    "print(neighbors)"
   ]
  },
  {
   "cell_type": "code",
   "execution_count": 47,
   "metadata": {},
   "outputs": [],
   "source": [
    "def assignmt_cost(sol):\n",
    "  cost=0\n",
    "  for i in range(sol_len):\n",
    "    for j in range(sol_len):\n",
    "        cost+=Distnce[i][j] *flow[sol[i]][sol[j]]\n",
    "  return cost"
   ]
  },
  {
   "cell_type": "code",
   "execution_count": 51,
   "metadata": {},
   "outputs": [
    {
     "name": "stdout",
     "output_type": "stream",
     "text": [
      "running tabu\n",
      "current soln\n",
      "[9, 11, 8, 10, 14, 7, 13, 18, 19, 12, 5, 3, 6, 16, 0, 15, 1, 17, 2, 4]\n",
      "Initial: [9, 11, 8, 10, 14, 7, 13, 18, 19, 12, 5, 3, 6, 16, 0, 15, 1, 17, 2, 4] cost 3502 \n"
     ]
    }
   ],
   "source": [
    "def swap_move(sol_n):\n",
    "    \n",
    "    global idx, neighbors\n",
    "    for i in range (sol_len):\n",
    "        j=i+1\n",
    "        for j in range(sol_len):\n",
    "            \n",
    "            print(\"i\", i)\n",
    "            print(\"j\", j)\n",
    "            if  i<j:\n",
    "                idx=idx+1\n",
    "                print(\"idx\", idx)\n",
    "                sol_n[j], sol_n[i] = sol_n[i], sol_n[j]\n",
    "                neighbors[idx, :-2] = sol_n\n",
    "                neighbors[idx, -2:] = [sol_n[i], sol_n[j]]\n",
    "                sol_n[i], sol_n[j] = sol_n[j], sol_n[i]\n",
    "                print(\"neighbors\")\n",
    "                print(neighbors)\n",
    "                print(\"sol_n\")\n",
    "                print(sol_n)\n",
    "\n",
    "                \n",
    "def run_tabu():\n",
    "    print(\"running tabu\")\n",
    "    \n",
    "    global neighbors, num_iter, idx\n",
    "    curnt_sol = random.sample(range(sol_len), sol_len)\n",
    "    print(\"current soln\")\n",
    "    print(curnt_sol)\n",
    "    best_soln = curnt_sol\n",
    "    Tabu = []\n",
    "    frequency = {}\n",
    "    \n",
    "    print(\"Initial: %s cost %s \" % (curnt_sol, assignmt_cost(curnt_sol)))\n",
    "    #print(\"in here\")\n",
    "    #num_iter == 0 #REMOVE\n",
    "    #num_iter = 200\n",
    " \n",
    "#     if num_iter == 200: #CHANGE TO >0\n",
    "#         #print(\"in here\")\n",
    "#         idx = -1\n",
    "#         swap_move(curnt_sol)  # make a move to neighbors\n",
    "\n",
    "#     num_iter -= 1 #INDENT\n",
    "#     print(\"Best sol %s cost: %s \" % (best_soln, assignmt_cost(best_soln)))\n",
    "    \n",
    "    \n",
    "if __name__== \"__main__\":  # calling the main function, where the program starts running\n",
    "    \n",
    "    run_tabu()"
   ]
  },
  {
   "cell_type": "code",
   "execution_count": 52,
   "metadata": {},
   "outputs": [
    {
     "name": "stdout",
     "output_type": "stream",
     "text": [
      "(1, 2, 3)\n",
      "(1, 3, 2)\n",
      "(2, 1, 3)\n",
      "(2, 3, 1)\n",
      "(3, 1, 2)\n",
      "(3, 2, 1)\n"
     ]
    }
   ],
   "source": [
    "# Python program to print all\n",
    "# the possible combinations\n",
    "  \n",
    "from itertools import permutations\n",
    "  \n",
    "# Get all combination of [1, 2, 3]\n",
    "# of length 3\n",
    "comb = permutations([9, 11, 8, 10, 14, 7, 13, 18, 19, 12, 5, 3, 6, 16, 0, 15, 1, 17, 2, 4], 20)\n",
    "  \n",
    "for i in comb:\n",
    "    print(i)"
   ]
  },
  {
   "cell_type": "code",
   "execution_count": null,
   "metadata": {},
   "outputs": [],
   "source": []
  }
 ],
 "metadata": {
  "kernelspec": {
   "display_name": "Python 3",
   "language": "python",
   "name": "python3"
  },
  "language_info": {
   "codemirror_mode": {
    "name": "ipython",
    "version": 3
   },
   "file_extension": ".py",
   "mimetype": "text/x-python",
   "name": "python",
   "nbconvert_exporter": "python",
   "pygments_lexer": "ipython3",
   "version": "3.7.10"
  }
 },
 "nbformat": 4,
 "nbformat_minor": 4
}
